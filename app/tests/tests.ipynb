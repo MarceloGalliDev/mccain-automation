{
 "cells": [
  {
   "cell_type": "code",
   "execution_count": null,
   "metadata": {},
   "outputs": [],
   "source": [
    "from sqlalchemy import create_engine\n",
    "from dotenv import load_dotenv\n",
    "import os\n",
    "import logging\n",
    "\n",
    "load_dotenv()"
   ]
  },
  {
   "cell_type": "code",
   "execution_count": null,
   "metadata": {},
   "outputs": [],
   "source": [
    "DB_CONFIG = {\n",
    "    'drivername': os.getenv('DRIVERNAME'),\n",
    "    'host': os.getenv('HOST'),\n",
    "    'port': os.getenv('PORT'),\n",
    "    'database': os.getenv('DATABASE'),\n",
    "    'username': os.getenv('USERNAME'),\n",
    "    'password': os.getenv('PASSWORD'),\n",
    "}\n",
    "\n",
    "FTP_CONFIG = {\n",
    "    'server-ftp': os.getenv('SERVER-FTP'),\n",
    "    'user-ftp': os.getenv('USER-FTP'),\n",
    "    'password-ftp': os.getenv('PASSWORD-FTP'),\n",
    "    'path_clientes': os.getenv('PATH-CLIENTES'),\n",
    "    'path_estoque': os.getenv('PATH-ESTOQUE'),\n",
    "    'path_produto': os.getenv('PATH-PRODUTO'),\n",
    "    'path_vendas': os.getenv('PATH-VENDAS'),\n",
    "}\n",
    "\n",
    "\n",
    "def get_db_engine(config):\n",
    "    db_url = \"{drivername}://{username}:{password}@{host}:{port}/{database}\".format(\n",
    "        **config)\n",
    "    engine = create_engine(db_url)\n",
    "    display('Banco de dados conectado!')\n",
    "    return engine\n",
    "\n",
    "\n",
    "get_db_engine(DB_CONFIG)"
   ]
  }
 ],
 "metadata": {
  "kernelspec": {
   "display_name": ".venv",
   "language": "python",
   "name": "python3"
  },
  "language_info": {
   "name": "python",
   "version": "3.10.6"
  },
  "orig_nbformat": 4
 },
 "nbformat": 4,
 "nbformat_minor": 2
}
