{
 "cells": [
  {
   "cell_type": "code",
   "execution_count": 2,
   "metadata": {},
   "outputs": [
    {
     "data": {
      "text/plain": [
       "True"
      ]
     },
     "execution_count": 2,
     "metadata": {},
     "output_type": "execute_result"
    }
   ],
   "source": [
    "from sqlalchemy import create_engine\n",
    "from dotenv import load_dotenv\n",
    "import os\n",
    "import logging\n",
    "\n",
    "load_dotenv()"
   ]
  },
  {
   "cell_type": "code",
   "execution_count": 3,
   "metadata": {},
   "outputs": [
    {
     "data": {
      "text/plain": [
       "'Banco de dados conectado!'"
      ]
     },
     "metadata": {},
     "output_type": "display_data"
    },
    {
     "data": {
      "text/plain": [
       "Engine(postgresql+psycopg2://consulta:***@@sistema.dusnei.com.br:5439/dusnei)"
      ]
     },
     "execution_count": 3,
     "metadata": {},
     "output_type": "execute_result"
    }
   ],
   "source": [
    "DB_CONFIG = {\n",
    "    'drivername': os.getenv('DRIVERNAME'),\n",
    "    'host': os.getenv('HOST'),\n",
    "    'port': os.getenv('PORT'),\n",
    "    'database': os.getenv('DATABASE'),\n",
    "    'username': os.getenv('USERNAME'),\n",
    "    'password': os.getenv('PASSWORD'),\n",
    "}\n",
    "\n",
    "FTP_CONFIG = {\n",
    "    'server-ftp': os.getenv('SERVER-FTP'),\n",
    "    'user-ftp': os.getenv('USER-FTP'),\n",
    "    'password-ftp': os.getenv('PASSWORD-FTP'),\n",
    "    'path_clientes': os.getenv('PATH-CLIENTES'),\n",
    "    'path_estoque': os.getenv('PATH-ESTOQUE'),\n",
    "    'path_produto': os.getenv('PATH-PRODUTO'),\n",
    "    'path_vendas': os.getenv('PATH-VENDAS'),\n",
    "}\n",
    "\n",
    "\n",
    "def get_db_engine(config):\n",
    "    db_url = \"{drivername}://{username}:{password}@{host}:{port}/{database}\".format(\n",
    "        **config)\n",
    "    engine = create_engine(db_url)\n",
    "    display('Banco de dados conectado!')\n",
    "    return engine\n",
    "\n",
    "\n",
    "get_db_engine(DB_CONFIG)"
   ]
  }
 ],
 "metadata": {
  "kernelspec": {
   "display_name": ".venv",
   "language": "python",
   "name": "python3"
  },
  "language_info": {
   "codemirror_mode": {
    "name": "ipython",
    "version": 3
   },
   "file_extension": ".py",
   "mimetype": "text/x-python",
   "name": "python",
   "nbconvert_exporter": "python",
   "pygments_lexer": "ipython3",
   "version": "3.10.6"
  },
  "orig_nbformat": 4
 },
 "nbformat": 4,
 "nbformat_minor": 2
}
